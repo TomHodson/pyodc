{
 "cells": [
  {
   "cell_type": "raw",
   "id": "0199892a-046e-45b6-b92f-8f81269aacd0",
   "metadata": {
    "jupyter": {
     "source_hidden": true
    },
    "raw_mimetype": "text/restructuredtext",
    "tags": []
   },
   "source": [
    ".. index:: Decoding, pandas"
   ]
  },
  {
   "cell_type": "markdown",
   "id": "a922e81b-70d4-4e60-ae31-1138308b176f",
   "metadata": {},
   "source": [
    "# Decoding ODB-2 Data"
   ]
  },
  {
   "cell_type": "markdown",
   "id": "7bf3f0f5-b792-4714-b6fa-3c059309a35a",
   "metadata": {},
   "source": [
    "The high-level decoding API in **pyodc** is compatible with **pandas** and is designed to be as straightforward as possible."
   ]
  },
  {
   "cell_type": "markdown",
   "id": "e8a2d199-c8e1-495c-b203-dbbff6e7ca5d",
   "metadata": {},
   "source": [
    "## Trivial Example"
   ]
  },
  {
   "cell_type": "markdown",
   "id": "cd777858-7172-4978-8ccb-a61526523148",
   "metadata": {},
   "source": [
    "To decode the data, read it directly via ``read_odb()`` function:"
   ]
  },
  {
   "cell_type": "code",
   "execution_count": 1,
   "id": "054c5756-efbd-4776-bcc5-c8b219312ff4",
   "metadata": {
    "tags": []
   },
   "outputs": [],
   "source": [
    "import sys\n",
    "import os\n",
    "sys.path.insert(0, os.path.abspath('../../..'))"
   ]
  },
  {
   "cell_type": "code",
   "execution_count": 2,
   "id": "bfbc856e-1b23-4d03-bfda-a0f55f05e304",
   "metadata": {},
   "outputs": [
    {
     "name": "stdout",
     "output_type": "stream",
     "text": [
      "   expver  date@hdr statid@hdr        wigos@hdr  obsvalue@body  \\\n",
      "0       1  20210420     stat00  0-12345-0-67890         0.0000   \n",
      "1       1  20210420     stat01  0-12345-0-67891        12.3456   \n",
      "2       1  20210420     stat02  0-12345-0-67892        24.6912   \n",
      "3       1  20210420     stat03  0-12345-0-67893        37.0368   \n",
      "4       1  20210420     stat04  0-12345-0-67894        49.3824   \n",
      "5       1  20210420     stat05  0-12345-0-67895        61.7280   \n",
      "6       1  20210420     stat06  0-12345-0-67896        74.0736   \n",
      "7       1  20210420     stat07  0-12345-0-67897        86.4192   \n",
      "8       1  20210420     stat08  0-12345-0-67898        98.7648   \n",
      "9       1  20210420     stat09  0-12345-0-67899       111.1104   \n",
      "\n",
      "   integer_missing  double_missing  bf_column  \n",
      "0           1234.0           12.34        0.0  \n",
      "1           4321.0           43.21        9.0  \n",
      "2              NaN             NaN        6.0  \n",
      "3           1234.0           12.34       10.0  \n",
      "4           4321.0           43.21        5.0  \n",
      "5              NaN             NaN        NaN  \n",
      "6           1234.0           12.34       15.0  \n",
      "7           4321.0           43.21        0.0  \n",
      "8              NaN             NaN        9.0  \n",
      "9           1234.0           12.34        6.0  \n"
     ]
    }
   ],
   "source": [
    "import pandas as pd\n",
    "import pyodc as odc\n",
    "\n",
    "df_decoded = odc.read_odb('example-1.odb', single=True)\n",
    "print(df_decoded)"
   ]
  },
  {
   "cell_type": "markdown",
   "id": "48a3bdb1-ecfa-42be-be7b-eb62b235577a",
   "metadata": {},
   "source": [
    "<div class=\"alert alert-info\">\n",
    "\n",
    "Note\n",
    "\n",
    "By passing ``single=True`` argument to ``read_odb()``, you are making sure that the data is aggregated and returned as a single frame if possible. For more information on aggregation capabilities, please see [the following section](#Aggregated-or-Non-aggregated-Decoding).\n",
    "\n",
    "</div>"
   ]
  },
  {
   "cell_type": "raw",
   "id": "bbe4f269-71de-49fc-b7a6-35c5ef145ea5",
   "metadata": {
    "jupyter": {
     "source_hidden": true
    },
    "raw_mimetype": "text/restructuredtext",
    "tags": []
   },
   "source": [
    ".. index::\n",
    "   single: Decoding; File Type"
   ]
  },
  {
   "cell_type": "markdown",
   "id": "8ca1d968-e628-4b14-82ec-17c767c5cfe8",
   "metadata": {},
   "source": [
    "## File Type Object"
   ]
  },
  {
   "cell_type": "markdown",
   "id": "7d7dbda3-c127-4d66-a7b3-fad02504da9e",
   "metadata": {},
   "source": [
    "Decoding of ODB-2 data works with file-like objects as well as with file names:"
   ]
  },
  {
   "cell_type": "code",
   "execution_count": 3,
   "id": "4f816f52-2118-488d-9d57-a4f0070a85b2",
   "metadata": {},
   "outputs": [],
   "source": [
    "with open('example-1.odb', 'rb') as f:\n",
    "    odc.read_odb(f, single=True)"
   ]
  },
  {
   "cell_type": "raw",
   "id": "983dc8b6-f517-48dd-84a0-cd863799dd5f",
   "metadata": {
    "jupyter": {
     "source_hidden": true
    },
    "raw_mimetype": "text/restructuredtext",
    "tags": []
   },
   "source": [
    ".. index::\n",
    "   single: Decoding; Subset"
   ]
  },
  {
   "cell_type": "markdown",
   "id": "604e3816-411f-49ea-bd0d-7ae5d7e98488",
   "metadata": {},
   "source": [
    "## Decoding a Subset of the Data"
   ]
  },
  {
   "cell_type": "markdown",
   "id": "cb38ff4c-023c-49eb-8461-da792fb6fc4d",
   "metadata": {},
   "source": [
    "For large ODB-2 files, it can be very valuable to not decode all of the data. The decode functions accept a list or tuple specifying the columns to decode.\n",
    "\n",
    "This is especially helpful when the structure of ODB-2 frames in a file is not constant, but all of the frames supply the desired data:"
   ]
  },
  {
   "cell_type": "code",
   "execution_count": 4,
   "id": "e79d4223-a074-4876-8acf-9272f21224f7",
   "metadata": {},
   "outputs": [
    {
     "name": "stdout",
     "output_type": "stream",
     "text": [
      "  statid@hdr  obsvalue@body\n",
      "0     stat00         0.0000\n",
      "1     stat01        12.3456\n",
      "2     stat02        24.6912\n",
      "3     stat03        37.0368\n",
      "4     stat04        49.3824\n",
      "5     stat05        61.7280\n",
      "6     stat06        74.0736\n",
      "7     stat07        86.4192\n",
      "8     stat08        98.7648\n",
      "9     stat09       111.1104\n"
     ]
    }
   ],
   "source": [
    "df_decoded = odc.read_odb('example-1.odb', single=True, columns=('statid@hdr', 'obsvalue@body'))\n",
    "print(df_decoded)"
   ]
  },
  {
   "cell_type": "markdown",
   "id": "07fd8c85-49bc-4ec3-b137-06f9ed64ed31",
   "metadata": {},
   "source": [
    "<div class=\"alert alert-info\">\n",
    "\n",
    "Note\n",
    "    \n",
    "For historical reasons, column references can omit the ``@`` sign and everything after it, but only in case the column name is unique and unambigious. For example, the line above could also refer to the two columns in the following format:\n",
    "    \n",
    "```python\n",
    "columns=('statid', 'obsvalue')\n",
    "```\n",
    "\n",
    "</div>"
   ]
  },
  {
   "cell_type": "raw",
   "id": "67c34618",
   "metadata": {
    "jupyter": {
     "source_hidden": true
    },
    "raw_mimetype": "text/restructuredtext",
    "tags": []
   },
   "source": [
    ".. index::\n",
    "   single: decoding; Bitfields"
   ]
  },
  {
   "cell_type": "markdown",
   "id": "23ab20d1",
   "metadata": {},
   "source": [
    "## Decoding Bitfield Data"
   ]
  },
  {
   "cell_type": "markdown",
   "id": "79d4669b",
   "metadata": {},
   "source": [
    "Bitfield data is encoded as integer values. These can be directly decoded and will be represented in the normal manner as integers (including missing values)"
   ]
  },
  {
   "cell_type": "code",
   "execution_count": 13,
   "id": "3317e39b",
   "metadata": {},
   "outputs": [
    {
     "name": "stdout",
     "output_type": "stream",
     "text": [
      "   bf_column  bf_missing\n",
      "0          0         0.0\n",
      "1          9         9.0\n",
      "2          6         6.0\n",
      "3         10        10.0\n",
      "4          5         5.0\n",
      "5          7         NaN\n",
      "6         15        15.0\n",
      "7          0         0.0\n",
      "8          9         9.0\n",
      "9          6         6.0\n"
     ]
    }
   ],
   "source": [
    "df_decoded = odc.read_odb('example-6.odb', single=True, columns=('bf_column', 'bf_missing'))\n",
    "print(df_decoded)"
   ]
  },
  {
   "cell_type": "markdown",
   "id": "56b9af0b",
   "metadata": {},
   "source": [
    "<div class=\"alert alert-info\">\n",
    "\n",
    "Note\n",
    "\n",
    "If integral data contains missing values, these decoded columns will be represented as floating point numbers and the missing values represented as NaNs. This is because numpy/pandas do not have a mechanism to represent missing values directly for integer data.\n",
    "\n",
    "</div>"
   ]
  },
  {
   "cell_type": "markdown",
   "id": "ef0df2e3",
   "metadata": {},
   "source": [
    "The data in these values corresponds to the bitfields revealed by the low-level API."
   ]
  },
  {
   "cell_type": "code",
   "execution_count": 22,
   "id": "5dff8006",
   "metadata": {},
   "outputs": [
    {
     "name": "stdout",
     "output_type": "stream",
     "text": [
      "column=bf_column  name=bit1    offset=0 size=1\n",
      "column=bf_column  name=bitpair offset=1 size=2\n",
      "column=bf_column  name=bit4    offset=3 size=1\n",
      "column=bf_missing name=bit1    offset=0 size=1\n",
      "column=bf_missing name=bitpair offset=1 size=2\n",
      "column=bf_missing name=bit4    offset=3 size=1\n"
     ]
    }
   ],
   "source": [
    "for column in ('bf_column', 'bf_missing'):\n",
    "    for bits in odc.Reader('example-6.odb').frames[0].column_dict['bf_missing'].bitfields:\n",
    "        print(f\"column={column:<10} name={bits.name:<7} offset={bits.offset} size={bits.size}\")"
   ]
  },
  {
   "cell_type": "markdown",
   "id": "011dfb09",
   "metadata": {},
   "source": [
    "To facilitate direct access to the named bit ranges, these can be explicitly requested when decoding the data. Single bit values will be translated into booleans, whereas multiple-bit values will be translated into the corresponding unsigned integers. Missing "
   ]
  },
  {
   "cell_type": "code",
   "execution_count": null,
   "id": "eedbd6d8",
   "metadata": {},
   "outputs": [],
   "source": []
  },
  {
   "cell_type": "raw",
   "id": "4fc0c0ca-56ac-4c01-8d0d-88be09fea9ad",
   "metadata": {
    "jupyter": {
     "source_hidden": true
    },
    "raw_mimetype": "text/restructuredtext",
    "tags": []
   },
   "source": [
    ".. index::\n",
    "   single: Decoding; Sequence"
   ]
  },
  {
   "cell_type": "markdown",
   "id": "ca1dd461-12ae-4c3c-a8ab-6ead85aa3503",
   "metadata": {},
   "source": [
    "## Decoding a Sequence of Frames"
   ]
  },
  {
   "cell_type": "markdown",
   "id": "c6ed73d0-f304-4b74-b9fe-f207f41f39e4",
   "metadata": {},
   "source": [
    "If ODB-2 data is extremely large, it is undesirable to attempt to decode it into memory in its entirety. Furthermore, if the frames within the file are not compatible, it may be a better idea to consider each of the frames separately.\n",
    "\n",
    "By default, ``read_odb()`` function returns an iterable sequence that lazily decodes ODB-2 frames as they are needed:"
   ]
  },
  {
   "cell_type": "code",
   "execution_count": 5,
   "id": "1b243ac4-9c03-4e77-b602-241b3094e188",
   "metadata": {},
   "outputs": [
    {
     "name": "stdout",
     "output_type": "stream",
     "text": [
      "Decoded data frame: 0\n",
      "   expver  date@hdr statid@hdr        wigos@hdr  obsvalue@body  \\\n",
      "0       1  20210420     stat00  0-12345-0-67890         0.0000   \n",
      "1       1  20210420     stat01  0-12345-0-67891        12.3456   \n",
      "2       1  20210420     stat02  0-12345-0-67892        24.6912   \n",
      "3       1  20210420     stat03  0-12345-0-67893        37.0368   \n",
      "4       1  20210420     stat04  0-12345-0-67894        49.3824   \n",
      "5       1  20210420     stat05  0-12345-0-67895        61.7280   \n",
      "6       1  20210420     stat06  0-12345-0-67896        74.0736   \n",
      "7       1  20210420     stat07  0-12345-0-67897        86.4192   \n",
      "8       1  20210420     stat08  0-12345-0-67898        98.7648   \n",
      "9       1  20210420     stat09  0-12345-0-67899       111.1104   \n",
      "\n",
      "   integer_missing  double_missing  bf_column  \n",
      "0           1234.0           12.34        0.0  \n",
      "1           4321.0           43.21        9.0  \n",
      "2              NaN             NaN        6.0  \n",
      "3           1234.0           12.34       10.0  \n",
      "4           4321.0           43.21        5.0  \n",
      "5              NaN             NaN        NaN  \n",
      "6           1234.0           12.34       15.0  \n",
      "7           4321.0           43.21        0.0  \n",
      "8              NaN             NaN        9.0  \n",
      "9           1234.0           12.34        6.0  \n",
      "\n",
      "Decoded data frame: 1\n",
      "   expver  date@hdr statid@hdr  obsvalue@body\n",
      "0       2  20210420     stat00         0.0000\n",
      "1       2  20210420     stat01        12.3456\n",
      "2       2  20210420     stat02        24.6912\n",
      "3       2  20210420     stat03        37.0368\n",
      "4       2  20210420     stat04        49.3824\n",
      "5       2  20210420     stat05        61.7280\n",
      "6       2  20210420     stat06        74.0736\n",
      "7       2  20210420     stat07        86.4192\n",
      "8       2  20210420     stat08        98.7648\n",
      "9       2  20210420     stat09       111.1104\n"
     ]
    }
   ],
   "source": [
    "for idx, df_decoded in enumerate(odc.read_odb('example-2.odb')):\n",
    "   if idx > 0: print()\n",
    "   print('Decoded data frame:', idx)\n",
    "   print(df_decoded)"
   ]
  },
  {
   "cell_type": "raw",
   "id": "3402a4a2-95c4-4f3e-aab7-e21497fad639",
   "metadata": {
    "jupyter": {
     "source_hidden": true
    },
    "raw_mimetype": "text/restructuredtext",
    "tags": []
   },
   "source": [
    ".. index::\n",
    "   single: Decoding; Aggregation"
   ]
  },
  {
   "cell_type": "markdown",
   "id": "f6e93fde-001a-4acd-9f8a-edc0ccd19acf",
   "metadata": {},
   "source": [
    "## Aggregated or Non-aggregated Decoding"
   ]
  },
  {
   "cell_type": "markdown",
   "id": "5d7ee715-be5f-4cab-a8dd-4c31b704c457",
   "metadata": {},
   "source": [
    "To page the data through memory without consuming more resources than exist, a sequence of frames may be considered to be one frame that has been split for technical reasons. The library is able to group these frames together into one logical, aggregated frame (and, indeed, it does this by default). Decoding aggregated logical frames in one step significantly improves performance of the decoder if offloading to **odc**."
   ]
  },
  {
   "cell_type": "markdown",
   "id": "2c4e281f-e61e-42a5-882b-ab8c5bd9b0ba",
   "metadata": {},
   "source": [
    "Both ``Reader`` and ``read_odb()`` functionality take two arguments:\n",
    "\n",
    "* ``aggregated`` - (default: ``True``) enables or disables aggregation of compatible frames.\n",
    "* ``max_aggregated`` - (default: ``None``) sets a maximum number of rows to be combined into one logical frame, before the library will split them anyway (for pagination purposes).\n",
    "\n",
    "For example, first we build a decoder with several real and a smaller number of logical frames:"
   ]
  },
  {
   "cell_type": "code",
   "execution_count": 6,
   "id": "f0d54427-ff4b-4044-9739-c4b2af58d344",
   "metadata": {},
   "outputs": [],
   "source": [
    "df = pd.read_csv('data-1.csv')\n",
    "df2 = pd.read_csv('data-2.csv')\n",
    "\n",
    "with open('example-5.odb', 'wb') as f:\n",
    "   odc.encode_odb(df, f, rows_per_frame=3)\n",
    "   odc.encode_odb(df2, f, rows_per_frame=3)"
   ]
  },
  {
   "cell_type": "markdown",
   "id": "2dba89aa-787f-4932-a9c5-04dd0db014cd",
   "metadata": {},
   "source": [
    "Interrogation of the structure can be done by using two different readers:"
   ]
  },
  {
   "cell_type": "code",
   "execution_count": 7,
   "id": "37194f94-9905-403d-99bc-cd090e38f3f2",
   "metadata": {},
   "outputs": [
    {
     "name": "stdout",
     "output_type": "stream",
     "text": [
      "aggregated row counts: [10, 10]\n",
      "separate   row counts: [3, 3, 3, 1, 3, 3, 3, 1]\n"
     ]
    }
   ],
   "source": [
    "r5a = odc.Reader('example-5.odb')\n",
    "r5b = odc.Reader('example-5.odb', aggregated=False)\n",
    "\n",
    "print('aggregated row counts:', [f.nrows for f in r5a.frames])\n",
    "print('separate   row counts:', [f.nrows for f in r5b.frames])"
   ]
  },
  {
   "cell_type": "markdown",
   "id": "faaaf8ff-1584-4b4d-b6e1-c34ca90990fb",
   "metadata": {},
   "source": [
    "By default, data is decoded in an aggregated fashion:"
   ]
  },
  {
   "cell_type": "code",
   "execution_count": 8,
   "id": "8fcd6ebc-fda2-4c0e-9da6-bbb86d6c4b1a",
   "metadata": {},
   "outputs": [
    {
     "name": "stdout",
     "output_type": "stream",
     "text": [
      "Decoded data frame: 0\n",
      "   expver  date@hdr statid@hdr        wigos@hdr  obsvalue@body  \\\n",
      "0       1  20210420     stat00  0-12345-0-67890         0.0000   \n",
      "1       1  20210420     stat01  0-12345-0-67891        12.3456   \n",
      "2       1  20210420     stat02  0-12345-0-67892        24.6912   \n",
      "3       1  20210420     stat03  0-12345-0-67893        37.0368   \n",
      "4       1  20210420     stat04  0-12345-0-67894        49.3824   \n",
      "5       1  20210420     stat05  0-12345-0-67895        61.7280   \n",
      "6       1  20210420     stat06  0-12345-0-67896        74.0736   \n",
      "7       1  20210420     stat07  0-12345-0-67897        86.4192   \n",
      "8       1  20210420     stat08  0-12345-0-67898        98.7648   \n",
      "9       1  20210420     stat09         0-12345-       111.1104   \n",
      "\n",
      "   integer_missing  double_missing  bf_column  \n",
      "0           1234.0           12.34        0.0  \n",
      "1           4321.0           43.21        9.0  \n",
      "2              NaN             NaN        6.0  \n",
      "3           1234.0           12.34       10.0  \n",
      "4           4321.0           43.21        5.0  \n",
      "5              NaN             NaN        NaN  \n",
      "6           1234.0           12.34       15.0  \n",
      "7           4321.0           43.21        0.0  \n",
      "8              NaN             NaN        9.0  \n",
      "9           1234.0           12.34        6.0  \n",
      "\n",
      "Decoded data frame: 1\n",
      "   expver  date@hdr statid@hdr  obsvalue@body\n",
      "0       2  20210420     stat00         0.0000\n",
      "1       2  20210420     stat01        12.3456\n",
      "2       2  20210420     stat02        24.6912\n",
      "3       2  20210420     stat03        37.0368\n",
      "4       2  20210420     stat04        49.3824\n",
      "5       2  20210420     stat05        61.7280\n",
      "6       2  20210420     stat06        74.0736\n",
      "7       2  20210420     stat07        86.4192\n",
      "8       2  20210420     stat08        98.7648\n",
      "9       2  20210420     stat09       111.1104\n"
     ]
    }
   ],
   "source": [
    "for idx, df_decoded in enumerate(odc.read_odb('example-5.odb')):\n",
    "   if idx > 0: print()\n",
    "   print('Decoded data frame:', idx)\n",
    "   print(df_decoded)"
   ]
  },
  {
   "cell_type": "markdown",
   "id": "d2d4a175-37b1-4bad-968b-59dec30d2126",
   "metadata": {},
   "source": [
    "But, the real frames can also be decoded separately:"
   ]
  },
  {
   "cell_type": "code",
   "execution_count": 9,
   "id": "9083c347-3a3b-44c1-8b2d-67e56e86238b",
   "metadata": {},
   "outputs": [
    {
     "name": "stdout",
     "output_type": "stream",
     "text": [
      "Decoded data frame: 0\n",
      "   expver  date@hdr statid@hdr        wigos@hdr  obsvalue@body  \\\n",
      "0       1  20210420     stat00  0-12345-0-67890         0.0000   \n",
      "1       1  20210420     stat01  0-12345-0-67891        12.3456   \n",
      "2       1  20210420     stat02  0-12345-0-67892        24.6912   \n",
      "\n",
      "   integer_missing  double_missing  bf_column  \n",
      "0           1234.0           12.34          0  \n",
      "1           4321.0           43.21          9  \n",
      "2              NaN             NaN          6  \n",
      "\n",
      "Decoded data frame: 1\n",
      "   expver  date@hdr statid@hdr        wigos@hdr  obsvalue@body  \\\n",
      "0       1  20210420     stat03  0-12345-0-67893        37.0368   \n",
      "1       1  20210420     stat04  0-12345-0-67894        49.3824   \n",
      "2       1  20210420     stat05  0-12345-0-67895        61.7280   \n",
      "\n",
      "   integer_missing  double_missing  bf_column  \n",
      "0           1234.0           12.34       10.0  \n",
      "1           4321.0           43.21        5.0  \n",
      "2              NaN             NaN        NaN  \n",
      "\n",
      "Decoded data frame: 2\n",
      "   expver  date@hdr statid@hdr        wigos@hdr  obsvalue@body  \\\n",
      "0       1  20210420     stat06  0-12345-0-67896        74.0736   \n",
      "1       1  20210420     stat07  0-12345-0-67897        86.4192   \n",
      "2       1  20210420     stat08  0-12345-0-67898        98.7648   \n",
      "\n",
      "   integer_missing  double_missing  bf_column  \n",
      "0           1234.0           12.34         15  \n",
      "1           4321.0           43.21          0  \n",
      "2              NaN             NaN          9  \n",
      "\n",
      "Decoded data frame: 3\n",
      "   expver  date@hdr statid@hdr wigos@hdr  obsvalue@body  integer_missing  \\\n",
      "0       1  20210420     stat09  0-12345-       111.1104             1234   \n",
      "\n",
      "   double_missing  bf_column  \n",
      "0           12.34          6  \n",
      "\n",
      "Decoded data frame: 4\n",
      "   expver  date@hdr statid@hdr  obsvalue@body\n",
      "0       2  20210420     stat00         0.0000\n",
      "1       2  20210420     stat01        12.3456\n",
      "2       2  20210420     stat02        24.6912\n",
      "\n",
      "Decoded data frame: 5\n",
      "   expver  date@hdr statid@hdr  obsvalue@body\n",
      "0       2  20210420     stat03        37.0368\n",
      "1       2  20210420     stat04        49.3824\n",
      "2       2  20210420     stat05        61.7280\n",
      "\n",
      "Decoded data frame: 6\n",
      "   expver  date@hdr statid@hdr  obsvalue@body\n",
      "0       2  20210420     stat06        74.0736\n",
      "1       2  20210420     stat07        86.4192\n",
      "2       2  20210420     stat08        98.7648\n",
      "\n",
      "Decoded data frame: 7\n",
      "   expver  date@hdr statid@hdr  obsvalue@body\n",
      "0       2  20210420     stat09       111.1104\n"
     ]
    }
   ],
   "source": [
    "for idx, df_decoded in enumerate(odc.read_odb('example-5.odb', aggregated=False)):\n",
    "      if idx > 0: print()\n",
    "      print('Decoded data frame:', idx)\n",
    "      print(df_decoded)"
   ]
  }
 ],
 "metadata": {
  "kernelspec": {
   "display_name": "Python 3 (ipykernel)",
   "language": "python",
   "name": "python3"
  },
  "language_info": {
   "codemirror_mode": {
    "name": "ipython",
    "version": 3
   },
   "file_extension": ".py",
   "mimetype": "text/x-python",
   "name": "python",
   "nbconvert_exporter": "python",
   "pygments_lexer": "ipython3",
   "version": "3.10.6"
  }
 },
 "nbformat": 4,
 "nbformat_minor": 5
}
